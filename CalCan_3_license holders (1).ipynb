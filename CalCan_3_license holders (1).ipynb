{
 "cells": [
  {
   "cell_type": "code",
   "execution_count": 1,
   "metadata": {},
   "outputs": [],
   "source": [
    "import pandas as pd"
   ]
  },
  {
   "cell_type": "code",
   "execution_count": 2,
   "metadata": {},
   "outputs": [],
   "source": [
    "import numpy as np"
   ]
  },
  {
   "cell_type": "code",
   "execution_count": 3,
   "metadata": {},
   "outputs": [],
   "source": [
    "df = pd.read_csv('cultlic__holders_Atoz (1).csv')"
   ]
  },
  {
   "cell_type": "code",
   "execution_count": 4,
   "metadata": {
    "scrolled": true
   },
   "outputs": [
    {
     "name": "stdout",
     "output_type": "stream",
     "text": [
      "Healy & Associates LLC                            170\n",
      "Central Coast Ag Farming, LLC                      98\n",
      "Heirloom Valley LLC                                89\n",
      "Lilys Green Garden, Inc.                           41\n",
      "Gypsy Canyon Farms                                 39\n",
      "Valley Crest Farms, LLC                            39\n",
      "Monterey Valley Pride, LLC                         29\n",
      "Busy Bees Organics                                 28\n",
      "Honeydew Farms, LLC                                28\n",
      "Alliance Farms                                     26\n",
      "Ag Roots LLC                                       25\n",
      "jolly farms inc                                    25\n",
      "SLO Cultivation Inc., dba Cresco California        25\n",
      "Ladybug Farms LLC                                  24\n",
      "Alamos Farm, Inc.                                  20\n",
      "Coastal Prairie, LLC                               20\n",
      "Canna Rios LLC                                     20\n",
      "CEA Development LLC                                19\n",
      "Melodious Plots LLC                                18\n",
      "360 Espinosa Road II, LLC                          18\n",
      "805 Ag Holdings LLC                                18\n",
      "Ceres Farm, LLC                                    17\n",
      "Ednigma, Inc.                                      17\n",
      "Victor Vincente                                    16\n",
      "Monterey Botanicals II, LLC                        16\n",
      "Salinas Spence Road Care, Inc.                     15\n",
      "Iron Angel, LLC                                    15\n",
      "Greenfield Organix C2                              14\n",
      "Mezzrow Meadows LLC                                14\n",
      "Bosim 1628 Management Company, LLC                 13\n",
      "                                                 ... \n",
      "Medicinal Care Green Cross, Inc DBA Qannabliss      1\n",
      "CBD Botanica                                        1\n",
      "Higher Ground Nursery and Farm                      1\n",
      "WIcked Oaks Ranch                                   1\n",
      "Production Management Systems                       1\n",
      "Humboldt Sanctuary Farm                             1\n",
      "FIREWORX FARMS                                      1\n",
      "Open Road Resources LLC                             1\n",
      "Wolf Den Wellness, LLC                              1\n",
      "Joy Ridge Ventures, LLC                             1\n",
      "Coastal Farms LLC                                   1\n",
      "NuGrow LLC                                          1\n",
      "DAG Topshelf                                        1\n",
      "JB Farms Realty LLC                                 1\n",
      "360 Degree View Farm                                1\n",
      "NTSC GROUP                                          1\n",
      "IFR Timber                                          1\n",
      "LH H20, Inc                                         1\n",
      "BTR & Son, LLC                                      1\n",
      "DSTL Farms LLC                                      1\n",
      "Patients United Health                              1\n",
      "WWCMC, Inc                                          1\n",
      "Rhaeben LLC                                         1\n",
      "Tierra Redonda Cultivaiton, LLC                     1\n",
      "Wildhearts Farm LLC                                 1\n",
      "Humboldt's Green Heart LLC                          1\n",
      "Essential Design Solutions                          1\n",
      "Bablon, LLC                                         1\n",
      "New Industry Products                               1\n",
      "Lynn Ryan                                           1\n",
      "Name: name, Length: 1909, dtype: int64\n"
     ]
    }
   ],
   "source": [
    "#organize license holders by frequency\n",
    "freq = df['name'].value_counts()\n",
    "print(freq)"
   ]
  },
  {
   "cell_type": "code",
   "execution_count": 5,
   "metadata": {},
   "outputs": [
    {
     "data": {
      "text/html": [
       "<div>\n",
       "<style scoped>\n",
       "    .dataframe tbody tr th:only-of-type {\n",
       "        vertical-align: middle;\n",
       "    }\n",
       "\n",
       "    .dataframe tbody tr th {\n",
       "        vertical-align: top;\n",
       "    }\n",
       "\n",
       "    .dataframe thead th {\n",
       "        text-align: right;\n",
       "    }\n",
       "</style>\n",
       "<table border=\"1\" class=\"dataframe\">\n",
       "  <thead>\n",
       "    <tr style=\"text-align: right;\">\n",
       "      <th></th>\n",
       "      <th>index</th>\n",
       "      <th>Unnamed: 0</th>\n",
       "      <th>name</th>\n",
       "      <th>license</th>\n",
       "      <th>city</th>\n",
       "      <th>county</th>\n",
       "    </tr>\n",
       "  </thead>\n",
       "  <tbody>\n",
       "    <tr>\n",
       "      <th>0</th>\n",
       "      <td>0</td>\n",
       "      <td>1171</td>\n",
       "      <td>00G, LLC.</td>\n",
       "      <td>provadu_sm_mix_tier1</td>\n",
       "      <td>uninc</td>\n",
       "      <td>Trinity</td>\n",
       "    </tr>\n",
       "    <tr>\n",
       "      <th>1</th>\n",
       "      <td>1</td>\n",
       "      <td>965</td>\n",
       "      <td>1212 Genetics, LLC</td>\n",
       "      <td>provadu_nurs</td>\n",
       "      <td>uninc</td>\n",
       "      <td>Monterey</td>\n",
       "    </tr>\n",
       "    <tr>\n",
       "      <th>2</th>\n",
       "      <td>2</td>\n",
       "      <td>1121</td>\n",
       "      <td>1333 Gro LLC</td>\n",
       "      <td>provadu_sm_ind</td>\n",
       "      <td>la</td>\n",
       "      <td>Los Angeles</td>\n",
       "    </tr>\n",
       "    <tr>\n",
       "      <th>3</th>\n",
       "      <td>3</td>\n",
       "      <td>986</td>\n",
       "      <td>1346 LA, LLC</td>\n",
       "      <td>provadu_proc</td>\n",
       "      <td>la</td>\n",
       "      <td>Los Angeles</td>\n",
       "    </tr>\n",
       "    <tr>\n",
       "      <th>4</th>\n",
       "      <td>4</td>\n",
       "      <td>891</td>\n",
       "      <td>135 Main Avenue Operating Group, Inc.</td>\n",
       "      <td>provadu_nurs</td>\n",
       "      <td>sac</td>\n",
       "      <td>Sacramento</td>\n",
       "    </tr>\n",
       "  </tbody>\n",
       "</table>\n",
       "</div>"
      ],
      "text/plain": [
       "   index  Unnamed: 0                                   name  \\\n",
       "0      0        1171                              00G, LLC.   \n",
       "1      1         965                     1212 Genetics, LLC   \n",
       "2      2        1121                           1333 Gro LLC   \n",
       "3      3         986                           1346 LA, LLC   \n",
       "4      4         891  135 Main Avenue Operating Group, Inc.   \n",
       "\n",
       "                license   city       county  \n",
       "0  provadu_sm_mix_tier1  uninc      Trinity  \n",
       "1          provadu_nurs  uninc     Monterey  \n",
       "2        provadu_sm_ind     la  Los Angeles  \n",
       "3          provadu_proc     la  Los Angeles  \n",
       "4          provadu_nurs    sac   Sacramento  "
      ]
     },
     "execution_count": 5,
     "metadata": {},
     "output_type": "execute_result"
    }
   ],
   "source": [
    "df.reset_index().head()"
   ]
  },
  {
   "cell_type": "code",
   "execution_count": 6,
   "metadata": {},
   "outputs": [],
   "source": [
    "#rename top license holder\n",
    "#1\n",
    "Healy_ind = df[(df.name == 'Healy & Associates LLC')]"
   ]
  },
  {
   "cell_type": "code",
   "execution_count": 7,
   "metadata": {},
   "outputs": [
    {
     "name": "stdout",
     "output_type": "stream",
     "text": [
      "anadu_sm_out      169\n",
      "provadu_sm_out      1\n",
      "Name: license, dtype: int64\n"
     ]
    }
   ],
   "source": [
    "#count individual licenses for top license holder\n",
    "Healy_lic = Healy_ind['license'].value_counts()\n",
    "print(Healy_lic)"
   ]
  },
  {
   "cell_type": "code",
   "execution_count": 77,
   "metadata": {},
   "outputs": [],
   "source": [
    "#repeat for top 10 license holders\n",
    "#2\n",
    "Central_ind = df[(df.name == 'Central Coast Ag Farming, LLC')]"
   ]
  },
  {
   "cell_type": "code",
   "execution_count": 78,
   "metadata": {},
   "outputs": [
    {
     "name": "stdout",
     "output_type": "stream",
     "text": [
      "provadu_sm_out    97\n",
      "provadu_proc       1\n",
      "Name: license, dtype: int64\n"
     ]
    }
   ],
   "source": [
    "Central_lic = Central_ind['license'].value_counts()\n",
    "print(Central_lic)"
   ]
  },
  {
   "cell_type": "code",
   "execution_count": 79,
   "metadata": {},
   "outputs": [],
   "source": [
    "#3\n",
    "Heirloom_ind = df[(df.name == 'Heirloom Valley LLC')]"
   ]
  },
  {
   "cell_type": "code",
   "execution_count": 80,
   "metadata": {},
   "outputs": [
    {
     "name": "stdout",
     "output_type": "stream",
     "text": [
      "provadu_sm_out     86\n",
      "provmed_sm_out      2\n",
      "provadu_med_out     1\n",
      "Name: license, dtype: int64\n"
     ]
    }
   ],
   "source": [
    "Heirloom_lic = Heirloom_ind['license'].value_counts()\n",
    "print(Heirloom_lic)"
   ]
  },
  {
   "cell_type": "code",
   "execution_count": 81,
   "metadata": {},
   "outputs": [],
   "source": [
    "#4\n",
    "Lilys_ind = df[(df.name == 'Lilys Green Garden, Inc.')]"
   ]
  },
  {
   "cell_type": "code",
   "execution_count": 82,
   "metadata": {
    "scrolled": true
   },
   "outputs": [
    {
     "name": "stdout",
     "output_type": "stream",
     "text": [
      "provmed_sm_mix_tier1    27\n",
      "provmed_sm_out          12\n",
      "provmed_nurs             1\n",
      "provmed_proc             1\n",
      "Name: license, dtype: int64\n"
     ]
    }
   ],
   "source": [
    "Lilys_lic = Lilys_ind['license'].value_counts()\n",
    "print(Lilys_lic)"
   ]
  },
  {
   "cell_type": "code",
   "execution_count": 83,
   "metadata": {},
   "outputs": [],
   "source": [
    "#5\n",
    "Valley_ind = df[(df.name == 'Valley Crest Farms, LLC')]"
   ]
  },
  {
   "cell_type": "code",
   "execution_count": 84,
   "metadata": {
    "scrolled": false
   },
   "outputs": [
    {
     "name": "stdout",
     "output_type": "stream",
     "text": [
      "provmed_sm_mix_tier1    37\n",
      "provadu_sm_mix_tier1     1\n",
      "provmed_proc             1\n",
      "Name: license, dtype: int64\n"
     ]
    }
   ],
   "source": [
    "Valley_lic = Valley_ind['license'].value_counts()\n",
    "print(Valley_lic)"
   ]
  },
  {
   "cell_type": "code",
   "execution_count": 85,
   "metadata": {},
   "outputs": [],
   "source": [
    "#6\n",
    "Gypsy_ind = df[(df.name == 'Gypsy Canyon Farms')]"
   ]
  },
  {
   "cell_type": "code",
   "execution_count": 86,
   "metadata": {},
   "outputs": [
    {
     "name": "stdout",
     "output_type": "stream",
     "text": [
      "provmed_sm_out    38\n",
      "provmed_proc       1\n",
      "Name: license, dtype: int64\n"
     ]
    }
   ],
   "source": [
    "Gypsy_lic = Gypsy_ind['license'].value_counts()\n",
    "print(Gypsy_lic)"
   ]
  },
  {
   "cell_type": "code",
   "execution_count": 87,
   "metadata": {},
   "outputs": [],
   "source": [
    "#7\n",
    "Monterey_ind = df[(df.name == 'Monterey Valley Pride, LLC')]"
   ]
  },
  {
   "cell_type": "code",
   "execution_count": 88,
   "metadata": {
    "scrolled": true
   },
   "outputs": [
    {
     "name": "stdout",
     "output_type": "stream",
     "text": [
      "provadu_spec_mix_tier1    16\n",
      "provadu_sm_mix_tier1      11\n",
      "provadu_proc               1\n",
      "provadu_nurs               1\n",
      "Name: license, dtype: int64\n"
     ]
    }
   ],
   "source": [
    "Monterey_lic = Monterey_ind['license'].value_counts()\n",
    "print(Monterey_lic)"
   ]
  },
  {
   "cell_type": "code",
   "execution_count": 89,
   "metadata": {},
   "outputs": [],
   "source": [
    "#8\n",
    "Honeydew_ind = df[(df.name == 'Honeydew Farms, LLC')]"
   ]
  },
  {
   "cell_type": "code",
   "execution_count": 90,
   "metadata": {},
   "outputs": [
    {
     "name": "stdout",
     "output_type": "stream",
     "text": [
      "anmed_sm_out            17\n",
      "anmed_sm_mix_tier1       9\n",
      "anmed_med_out            1\n",
      "anmed_spec_mix_tier1     1\n",
      "Name: license, dtype: int64\n"
     ]
    }
   ],
   "source": [
    "Honeydew_lic = Honeydew_ind['license'].value_counts()\n",
    "print(Honeydew_lic)"
   ]
  },
  {
   "cell_type": "code",
   "execution_count": 91,
   "metadata": {},
   "outputs": [],
   "source": [
    "#9\n",
    "Busy_ind = df[(df.name == 'Busy Bees Organics')]"
   ]
  },
  {
   "cell_type": "code",
   "execution_count": 92,
   "metadata": {},
   "outputs": [
    {
     "name": "stdout",
     "output_type": "stream",
     "text": [
      "provadu_sm_out    26\n",
      "provadu_proc       1\n",
      "provadu_nurs       1\n",
      "Name: license, dtype: int64\n"
     ]
    }
   ],
   "source": [
    "Busy_lic = Busy_ind['license'].value_counts()\n",
    "print(Busy_lic)"
   ]
  },
  {
   "cell_type": "code",
   "execution_count": 93,
   "metadata": {},
   "outputs": [],
   "source": [
    "#10\n",
    "Alliance_ind = df[(df.name == 'Alliance Farms')]"
   ]
  },
  {
   "cell_type": "code",
   "execution_count": 94,
   "metadata": {},
   "outputs": [
    {
     "name": "stdout",
     "output_type": "stream",
     "text": [
      "provadu_sm_mix_tier1    26\n",
      "Name: license, dtype: int64\n"
     ]
    }
   ],
   "source": [
    "Alliance_lic = Alliance_ind['license'].value_counts()\n",
    "print(Alliance_lic)"
   ]
  },
  {
   "cell_type": "code",
   "execution_count": 14,
   "metadata": {},
   "outputs": [
    {
     "data": {
      "text/html": [
       "<div>\n",
       "<style scoped>\n",
       "    .dataframe tbody tr th:only-of-type {\n",
       "        vertical-align: middle;\n",
       "    }\n",
       "\n",
       "    .dataframe tbody tr th {\n",
       "        vertical-align: top;\n",
       "    }\n",
       "\n",
       "    .dataframe thead th {\n",
       "        text-align: right;\n",
       "    }\n",
       "</style>\n",
       "<table border=\"1\" class=\"dataframe\">\n",
       "  <thead>\n",
       "    <tr style=\"text-align: right;\">\n",
       "      <th></th>\n",
       "      <th>license_holder</th>\n",
       "      <th>county</th>\n",
       "      <th>provmed_sm_mix_tier1</th>\n",
       "      <th>anmed_sm_mix_tier1</th>\n",
       "      <th>provadu_sm_mix_tier1</th>\n",
       "      <th>provadu_spec_mix_tier1</th>\n",
       "      <th>anmed_spec_mix_tier1</th>\n",
       "      <th>anadu_sm_out</th>\n",
       "      <th>anmed_sm_out</th>\n",
       "      <th>anmed_med_out</th>\n",
       "      <th>provadu_sm_out</th>\n",
       "      <th>provmed_sm_out</th>\n",
       "      <th>provadu_med_out</th>\n",
       "      <th>provmed_proc</th>\n",
       "      <th>provadu_proc</th>\n",
       "      <th>provmed_nurs</th>\n",
       "      <th>provadu_nurs</th>\n",
       "      <th>total</th>\n",
       "    </tr>\n",
       "  </thead>\n",
       "  <tbody>\n",
       "    <tr>\n",
       "      <th>0</th>\n",
       "      <td>Healy &amp; Associates LLC</td>\n",
       "      <td>Santa Barbara</td>\n",
       "      <td>0.0</td>\n",
       "      <td>NaN</td>\n",
       "      <td>0</td>\n",
       "      <td>0</td>\n",
       "      <td>0</td>\n",
       "      <td>169</td>\n",
       "      <td>0</td>\n",
       "      <td>0</td>\n",
       "      <td>1</td>\n",
       "      <td>0</td>\n",
       "      <td>0</td>\n",
       "      <td>0</td>\n",
       "      <td>0</td>\n",
       "      <td>0</td>\n",
       "      <td>0</td>\n",
       "      <td>170</td>\n",
       "    </tr>\n",
       "    <tr>\n",
       "      <th>1</th>\n",
       "      <td>Central Coast Ag Farming, LLC</td>\n",
       "      <td>Santa Barbara</td>\n",
       "      <td>0.0</td>\n",
       "      <td>NaN</td>\n",
       "      <td>0</td>\n",
       "      <td>0</td>\n",
       "      <td>0</td>\n",
       "      <td>0</td>\n",
       "      <td>0</td>\n",
       "      <td>0</td>\n",
       "      <td>97</td>\n",
       "      <td>0</td>\n",
       "      <td>0</td>\n",
       "      <td>0</td>\n",
       "      <td>1</td>\n",
       "      <td>0</td>\n",
       "      <td>0</td>\n",
       "      <td>98</td>\n",
       "    </tr>\n",
       "    <tr>\n",
       "      <th>2</th>\n",
       "      <td>Heirloom Valley LLC</td>\n",
       "      <td>Santa Barbara</td>\n",
       "      <td>0.0</td>\n",
       "      <td>NaN</td>\n",
       "      <td>0</td>\n",
       "      <td>0</td>\n",
       "      <td>0</td>\n",
       "      <td>0</td>\n",
       "      <td>0</td>\n",
       "      <td>0</td>\n",
       "      <td>86</td>\n",
       "      <td>2</td>\n",
       "      <td>1</td>\n",
       "      <td>0</td>\n",
       "      <td>0</td>\n",
       "      <td>0</td>\n",
       "      <td>0</td>\n",
       "      <td>89</td>\n",
       "    </tr>\n",
       "    <tr>\n",
       "      <th>3</th>\n",
       "      <td>Lilys Green Garden, Inc.</td>\n",
       "      <td>Santa Barbara</td>\n",
       "      <td>27.0</td>\n",
       "      <td>NaN</td>\n",
       "      <td>0</td>\n",
       "      <td>0</td>\n",
       "      <td>0</td>\n",
       "      <td>0</td>\n",
       "      <td>0</td>\n",
       "      <td>0</td>\n",
       "      <td>0</td>\n",
       "      <td>12</td>\n",
       "      <td>0</td>\n",
       "      <td>1</td>\n",
       "      <td>0</td>\n",
       "      <td>1</td>\n",
       "      <td>0</td>\n",
       "      <td>41</td>\n",
       "    </tr>\n",
       "    <tr>\n",
       "      <th>4</th>\n",
       "      <td>Valley Crest Farms, LLC</td>\n",
       "      <td>Santa Barbara</td>\n",
       "      <td>37.0</td>\n",
       "      <td>NaN</td>\n",
       "      <td>1</td>\n",
       "      <td>0</td>\n",
       "      <td>0</td>\n",
       "      <td>0</td>\n",
       "      <td>0</td>\n",
       "      <td>0</td>\n",
       "      <td>0</td>\n",
       "      <td>0</td>\n",
       "      <td>0</td>\n",
       "      <td>1</td>\n",
       "      <td>0</td>\n",
       "      <td>0</td>\n",
       "      <td>0</td>\n",
       "      <td>39</td>\n",
       "    </tr>\n",
       "  </tbody>\n",
       "</table>\n",
       "</div>"
      ],
      "text/plain": [
       "                  license_holder         county  provmed_sm_mix_tier1  \\\n",
       "0         Healy & Associates LLC  Santa Barbara                   0.0   \n",
       "1  Central Coast Ag Farming, LLC  Santa Barbara                   0.0   \n",
       "2            Heirloom Valley LLC  Santa Barbara                   0.0   \n",
       "3       Lilys Green Garden, Inc.  Santa Barbara                  27.0   \n",
       "4        Valley Crest Farms, LLC  Santa Barbara                  37.0   \n",
       "\n",
       "   anmed_sm_mix_tier1  provadu_sm_mix_tier1  provadu_spec_mix_tier1  \\\n",
       "0                 NaN                     0                       0   \n",
       "1                 NaN                     0                       0   \n",
       "2                 NaN                     0                       0   \n",
       "3                 NaN                     0                       0   \n",
       "4                 NaN                     1                       0   \n",
       "\n",
       "   anmed_spec_mix_tier1  anadu_sm_out  anmed_sm_out  anmed_med_out  \\\n",
       "0                     0           169             0              0   \n",
       "1                     0             0             0              0   \n",
       "2                     0             0             0              0   \n",
       "3                     0             0             0              0   \n",
       "4                     0             0             0              0   \n",
       "\n",
       "   provadu_sm_out  provmed_sm_out  provadu_med_out  provmed_proc   \\\n",
       "0               1               0                0              0   \n",
       "1              97               0                0              0   \n",
       "2              86               2                1              0   \n",
       "3               0              12                0              1   \n",
       "4               0               0                0              1   \n",
       "\n",
       "   provadu_proc  provmed_nurs  provadu_nurs  total  \n",
       "0             0             0             0    170  \n",
       "1             1             0             0     98  \n",
       "2             0             0             0     89  \n",
       "3             0             1             0     41  \n",
       "4             0             0             0     39  "
      ]
     },
     "execution_count": 14,
     "metadata": {},
     "output_type": "execute_result"
    }
   ],
   "source": [
    "#save new data set\n",
    "df_top10 = pd.read_csv('top10lic.csv')\n",
    "df_top10.head()"
   ]
  },
  {
   "cell_type": "code",
   "execution_count": null,
   "metadata": {},
   "outputs": [],
   "source": []
  }
 ],
 "metadata": {
  "kernelspec": {
   "display_name": "Python 3",
   "language": "python",
   "name": "python3"
  },
  "language_info": {
   "codemirror_mode": {
    "name": "ipython",
    "version": 3
   },
   "file_extension": ".py",
   "mimetype": "text/x-python",
   "name": "python",
   "nbconvert_exporter": "python",
   "pygments_lexer": "ipython3",
   "version": "3.6.9"
  }
 },
 "nbformat": 4,
 "nbformat_minor": 4
}
